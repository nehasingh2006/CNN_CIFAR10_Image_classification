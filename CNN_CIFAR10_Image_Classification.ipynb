{
  "nbformat": 4,
  "nbformat_minor": 0,
  "metadata": {
    "colab": {
      "name": "CNN_CIFAR10_Image_Classification.ipynb",
      "provenance": [],
      "collapsed_sections": []
    },
    "kernelspec": {
      "name": "python3",
      "display_name": "Python 3"
    },
    "language_info": {
      "name": "python"
    }
  },
  "cells": [
    {
      "cell_type": "code",
      "metadata": {
        "id": "l1ZB7TkJKjbs"
      },
      "source": [
        "import tensorflow as tf\n",
        "from tensorflow.keras import datasets, layers, models\n",
        "import matplotlib.pyplot as plt\n",
        "import numpy as np\n"
      ],
      "execution_count": null,
      "outputs": []
    },
    {
      "cell_type": "markdown",
      "metadata": {
        "id": "lmLjHSTVK0vC"
      },
      "source": [
        "**Load the dataset**"
      ]
    },
    {
      "cell_type": "code",
      "metadata": {
        "colab": {
          "base_uri": "https://localhost:8080/"
        },
        "id": "eN7XKVykKxmB",
        "outputId": "0a91fb99-3b5d-45c3-b440-305dde11ff6b"
      },
      "source": [
        "(X_train, y_train), (X_test,y_test) = datasets.cifar10.load_data()\n",
        "X_train.shape"
      ],
      "execution_count": null,
      "outputs": [
        {
          "output_type": "execute_result",
          "data": {
            "text/plain": [
              "(50000, 32, 32, 3)"
            ]
          },
          "metadata": {},
          "execution_count": 3
        }
      ]
    },
    {
      "cell_type": "code",
      "metadata": {
        "colab": {
          "base_uri": "https://localhost:8080/"
        },
        "id": "ZsuJtGsSKwIu",
        "outputId": "5050d1b4-8201-4a25-d53f-954cad92f721"
      },
      "source": [
        "X_test.shape"
      ],
      "execution_count": null,
      "outputs": [
        {
          "output_type": "execute_result",
          "data": {
            "text/plain": [
              "(10000, 32, 32, 3)"
            ]
          },
          "metadata": {},
          "execution_count": 4
        }
      ]
    },
    {
      "cell_type": "code",
      "metadata": {
        "colab": {
          "base_uri": "https://localhost:8080/"
        },
        "id": "oZB7KI5lLFyw",
        "outputId": "00c3d55f-1119-46e2-ce2d-1716e7f1fea6"
      },
      "source": [
        "y_train.shape"
      ],
      "execution_count": null,
      "outputs": [
        {
          "output_type": "execute_result",
          "data": {
            "text/plain": [
              "(50000, 1)"
            ]
          },
          "metadata": {},
          "execution_count": 5
        }
      ]
    },
    {
      "cell_type": "code",
      "metadata": {
        "colab": {
          "base_uri": "https://localhost:8080/"
        },
        "id": "ZjSyNjeiLF64",
        "outputId": "fa566a81-586d-4c5a-c2ff-43b69c246aad"
      },
      "source": [
        "y_train[:5]"
      ],
      "execution_count": null,
      "outputs": [
        {
          "output_type": "execute_result",
          "data": {
            "text/plain": [
              "array([[6],\n",
              "       [9],\n",
              "       [9],\n",
              "       [4],\n",
              "       [1]], dtype=uint8)"
            ]
          },
          "metadata": {},
          "execution_count": 6
        }
      ]
    },
    {
      "cell_type": "markdown",
      "metadata": {
        "id": "_aB68O6VLOpw"
      },
      "source": [
        "y_train is a 2D array, for our classification having 1D array is good enough. so we will convert this to now 1D array"
      ]
    },
    {
      "cell_type": "code",
      "metadata": {
        "colab": {
          "base_uri": "https://localhost:8080/"
        },
        "id": "9ziSKHflLF-A",
        "outputId": "145a3d99-3297-42d9-f816-5c9de2d0ed0a"
      },
      "source": [
        "y_train = y_train.reshape(-1,)\n",
        "y_train[:5]"
      ],
      "execution_count": null,
      "outputs": [
        {
          "output_type": "execute_result",
          "data": {
            "text/plain": [
              "array([6, 9, 9, 4, 1], dtype=uint8)"
            ]
          },
          "metadata": {},
          "execution_count": 7
        }
      ]
    },
    {
      "cell_type": "code",
      "metadata": {
        "id": "18RNmcX8LGA9"
      },
      "source": [
        "y_test = y_test.reshape(-1,)"
      ],
      "execution_count": null,
      "outputs": []
    },
    {
      "cell_type": "code",
      "metadata": {
        "id": "1v9sQeW4LGDm"
      },
      "source": [
        "classes = [\"airplane\",\"automobile\",\"bird\",\"cat\",\"deer\",\"dog\",\"frog\",\"horse\",\"ship\",\"truck\"]\n"
      ],
      "execution_count": null,
      "outputs": []
    },
    {
      "cell_type": "markdown",
      "metadata": {
        "id": "XXPhKFkHLaMe"
      },
      "source": [
        "Let's plot some images to see what they are\n"
      ]
    },
    {
      "cell_type": "code",
      "metadata": {
        "id": "MLtPVPrmLcLS"
      },
      "source": [
        "def plot_sample(X, y, index):\n",
        "    plt.figure(figsize = (15,2))\n",
        "    plt.imshow(X[index])\n",
        "    plt.xlabel(classes[y[index]])"
      ],
      "execution_count": null,
      "outputs": []
    },
    {
      "cell_type": "code",
      "metadata": {
        "id": "9mWF5xncLfmv"
      },
      "source": [
        "plot_sample(X_train, y_train, 0)"
      ],
      "execution_count": null,
      "outputs": []
    },
    {
      "cell_type": "code",
      "metadata": {
        "colab": {
          "base_uri": "https://localhost:8080/",
          "height": 173
        },
        "id": "e4l4STWQLh_G",
        "outputId": "add38073-2e6b-4a1e-954f-1aeb5da68c42"
      },
      "source": [
        "plot_sample(X_train, y_train, 2)\n"
      ],
      "execution_count": null,
      "outputs": [
        {
          "output_type": "display_data",
          "data": {
            "image/png": "[encoded data removed]",
            "text/plain": [
              "<Figure size 1080x144 with 1 Axes>"
            ]
          },
          "metadata": {
            "needs_background": "light"
          }
        }
      ]
    },
    {
      "cell_type": "markdown",
      "metadata": {
        "id": "7RCvr80kLmlO"
      },
      "source": [
        "Normalize the images to a number from 0 to 1. Image has 3 channels (R,G,B) and each value in the channel can range from 0 to 255. Hence to normalize in 0-->1 range, we need to divide it by 255\n",
        "\n"
      ]
    },
    {
      "cell_type": "markdown",
      "metadata": {
        "id": "GSap1hNLLtkJ"
      },
      "source": [
        "\n",
        "**Normalizing the training data**"
      ]
    },
    {
      "cell_type": "code",
      "metadata": {
        "id": "qmcZuF34LqdT"
      },
      "source": [
        "X_train = X_train / 255.0\n",
        "X_test = X_test / 255.0"
      ],
      "execution_count": null,
      "outputs": []
    },
    {
      "cell_type": "markdown",
      "metadata": {
        "id": "NgmrAaZKL9Yz"
      },
      "source": [
        "**Build simple artificial neural network for image classification**"
      ]
    },
    {
      "cell_type": "code",
      "metadata": {
        "colab": {
          "base_uri": "https://localhost:8080/"
        },
        "id": "yPpx_DDSL7jr",
        "outputId": "f6144f7d-5ea5-4906-9fec-ddaad8cc02bf"
      },
      "source": [
        "ann = models.Sequential([\n",
        "        layers.Flatten(input_shape=(32,32,3)),\n",
        "        layers.Dense(3000, activation='relu'),\n",
        "        layers.Dense(1000, activation='relu'),\n",
        "        layers.Dense(10, activation='softmax')    \n",
        "    ])\n",
        "\n",
        "ann.compile(optimizer='SGD',\n",
        "              loss='sparse_categorical_crossentropy',\n",
        "              metrics=['accuracy'])\n",
        "\n",
        "ann.fit(X_train, y_train, epochs=5)\n"
      ],
      "execution_count": null,
      "outputs": [
        {
          "output_type": "stream",
          "name": "stdout",
          "text": [
            "Epoch 1/5\n",
            "1563/1563 [==============================] - 100s 64ms/step - loss: 1.8170 - accuracy: 0.3546\n",
            "Epoch 2/5\n",
            "1563/1563 [==============================] - 100s 64ms/step - loss: 1.6259 - accuracy: 0.4289\n",
            "Epoch 3/5\n",
            "1563/1563 [==============================] - 101s 65ms/step - loss: 1.5438 - accuracy: 0.4558\n",
            "Epoch 4/5\n",
            "1563/1563 [==============================] - 101s 64ms/step - loss: 1.4820 - accuracy: 0.4776\n",
            "Epoch 5/5\n",
            "1563/1563 [==============================] - 100s 64ms/step - loss: 1.4313 - accuracy: 0.4958\n"
          ]
        },
        {
          "output_type": "execute_result",
          "data": {
            "text/plain": [
              "<keras.callbacks.History at 0x7efc7fd20310>"
            ]
          },
          "metadata": {},
          "execution_count": 16
        }
      ]
    },
    {
      "cell_type": "markdown",
      "metadata": {
        "id": "Hw9olp3qSePF"
      },
      "source": [
        "**You can see that at the end of 5 epochs, accuracy is at around 49%**\n",
        "\n"
      ]
    },
    {
      "cell_type": "code",
      "metadata": {
        "colab": {
          "base_uri": "https://localhost:8080/"
        },
        "id": "cQonzLerSbBo",
        "outputId": "842616e7-8a52-434a-e12b-a9db42a098f2"
      },
      "source": [
        "from sklearn.metrics import confusion_matrix , classification_report\n",
        "import numpy as np\n",
        "y_pred = ann.predict(X_test)\n",
        "y_pred_classes = [np.argmax(element) for element in y_pred]\n",
        "\n",
        "print(\"Classification Report: \\n\", classification_report(y_test, y_pred_classes))"
      ],
      "execution_count": null,
      "outputs": [
        {
          "output_type": "stream",
          "name": "stdout",
          "text": [
            "Classification Report: \n",
            "               precision    recall  f1-score   support\n",
            "\n",
            "           0       0.37      0.60      0.46      1000\n",
            "           1       0.66      0.45      0.53      1000\n",
            "           2       0.35      0.32      0.34      1000\n",
            "           3       0.43      0.20      0.27      1000\n",
            "           4       0.51      0.29      0.37      1000\n",
            "           5       0.43      0.34      0.38      1000\n",
            "           6       0.47      0.62      0.53      1000\n",
            "           7       0.61      0.47      0.53      1000\n",
            "           8       0.38      0.81      0.52      1000\n",
            "           9       0.57      0.45      0.50      1000\n",
            "\n",
            "    accuracy                           0.45     10000\n",
            "   macro avg       0.48      0.45      0.44     10000\n",
            "weighted avg       0.48      0.45      0.44     10000\n",
            "\n"
          ]
        }
      ]
    },
    {
      "cell_type": "markdown",
      "metadata": {
        "id": "BYXeRqV1TEld"
      },
      "source": [
        "**Now let us build a convolutional neural network to train our images**"
      ]
    },
    {
      "cell_type": "code",
      "metadata": {
        "id": "IeVnWnzaLoBz"
      },
      "source": [
        "cnn = models.Sequential([\n",
        "    layers.Conv2D(filters=32, kernel_size=(3, 3), activation='relu', input_shape=(32, 32, 3)),\n",
        "    layers.MaxPooling2D((2, 2)),\n",
        "    \n",
        "    layers.Conv2D(filters=64, kernel_size=(3, 3), activation='relu'),\n",
        "    layers.MaxPooling2D((2, 2)),\n",
        "    \n",
        "    layers.Flatten(),\n",
        "    layers.Dense(64, activation='relu'),\n",
        "    layers.Dense(10, activation='softmax')\n",
        "])"
      ],
      "execution_count": null,
      "outputs": []
    },
    {
      "cell_type": "code",
      "metadata": {
        "id": "ExKoCk1QTLDf"
      },
      "source": [
        "cnn.compile(optimizer='adam',\n",
        "              loss='sparse_categorical_crossentropy',\n",
        "              metrics=['accuracy'])"
      ],
      "execution_count": null,
      "outputs": []
    },
    {
      "cell_type": "code",
      "metadata": {
        "colab": {
          "base_uri": "https://localhost:8080/"
        },
        "id": "au2JPDPATLJR",
        "outputId": "c699349d-bd60-453f-f3b2-387801a0dd87"
      },
      "source": [
        "cnn.fit(X_train, y_train, epochs=10)\n"
      ],
      "execution_count": null,
      "outputs": [
        {
          "output_type": "stream",
          "name": "stdout",
          "text": [
            "Epoch 1/10\n",
            "1563/1563 [==============================] - 63s 40ms/step - loss: 1.4636 - accuracy: 0.4773\n",
            "Epoch 2/10\n",
            "1563/1563 [==============================] - 63s 40ms/step - loss: 1.1161 - accuracy: 0.6091\n",
            "Epoch 3/10\n",
            "1563/1563 [==============================] - 63s 40ms/step - loss: 0.9938 - accuracy: 0.6552\n",
            "Epoch 4/10\n",
            "1563/1563 [==============================] - 62s 40ms/step - loss: 0.9235 - accuracy: 0.6799\n",
            "Epoch 5/10\n",
            "1563/1563 [==============================] - 62s 40ms/step - loss: 0.8554 - accuracy: 0.7013\n",
            "Epoch 6/10\n",
            "1563/1563 [==============================] - 63s 40ms/step - loss: 0.8027 - accuracy: 0.7202\n",
            "Epoch 7/10\n",
            "1563/1563 [==============================] - 63s 40ms/step - loss: 0.7537 - accuracy: 0.7394\n",
            "Epoch 8/10\n",
            "1563/1563 [==============================] - 63s 40ms/step - loss: 0.7103 - accuracy: 0.7556\n",
            "Epoch 9/10\n",
            "1563/1563 [==============================] - 63s 40ms/step - loss: 0.6695 - accuracy: 0.7672\n",
            "Epoch 10/10\n",
            "1563/1563 [==============================] - 63s 40ms/step - loss: 0.6345 - accuracy: 0.7784\n"
          ]
        },
        {
          "output_type": "execute_result",
          "data": {
            "text/plain": [
              "<keras.callbacks.History at 0x7efc7c1f7c50>"
            ]
          },
          "metadata": {},
          "execution_count": 21
        }
      ]
    },
    {
      "cell_type": "markdown",
      "metadata": {
        "id": "VaQTvXu2Tnp_"
      },
      "source": [
        "**With CNN, at the end 5 epochs, accuracy was at around 70% which is a significant improvement over ANN. CNN's are best for image classification and gives superb accuracy. Also computation is much less compared to simple ANN as maxpooling reduces the image dimensions while still preserving the features**"
      ]
    },
    {
      "cell_type": "code",
      "metadata": {
        "colab": {
          "base_uri": "https://localhost:8080/"
        },
        "id": "Jq_p29LxTLQM",
        "outputId": "14c14c2b-7b46-4408-f61d-85d3ea2ccd26"
      },
      "source": [
        "cnn.evaluate(X_test,y_test)\n"
      ],
      "execution_count": null,
      "outputs": [
        {
          "output_type": "stream",
          "name": "stdout",
          "text": [
            "313/313 [==============================] - 4s 13ms/step - loss: 0.9219 - accuracy: 0.6995\n"
          ]
        },
        {
          "output_type": "execute_result",
          "data": {
            "text/plain": [
              "[0.9218767285346985, 0.6995000243186951]"
            ]
          },
          "metadata": {},
          "execution_count": 22
        }
      ]
    },
    {
      "cell_type": "code",
      "metadata": {
        "colab": {
          "base_uri": "https://localhost:8080/"
        },
        "id": "wgFFIecPTLTk",
        "outputId": "b75e0749-4e3c-417c-ca7e-b4a95ee68fa5"
      },
      "source": [
        "y_pred = cnn.predict(X_test)\n",
        "y_pred[:5]"
      ],
      "execution_count": null,
      "outputs": [
        {
          "output_type": "execute_result",
          "data": {
            "text/plain": [
              "array([[4.71606269e-04, 8.84895271e-05, 3.73986753e-04, 9.32330072e-01,\n",
              "        4.86614939e-04, 3.87071148e-02, 1.20335375e-03, 3.55564989e-04,\n",
              "        2.59109754e-02, 7.22247059e-05],\n",
              "       [3.90380068e-04, 5.42516494e-03, 1.98715748e-06, 1.10286722e-08,\n",
              "        2.24631890e-07, 6.37702779e-09, 1.41241925e-08, 1.77911419e-09,\n",
              "        9.94110167e-01, 7.20393000e-05],\n",
              "       [4.65264708e-01, 1.96636125e-01, 3.71588417e-03, 1.61491858e-03,\n",
              "        1.02634670e-03, 4.97509667e-04, 1.71872598e-04, 1.06364326e-03,\n",
              "        2.61393309e-01, 6.86157793e-02],\n",
              "       [2.78197706e-01, 1.43884951e-02, 8.26792419e-03, 1.10549037e-03,\n",
              "        4.60821809e-03, 1.98075959e-05, 4.23205842e-04, 2.67515406e-05,\n",
              "        6.92568600e-01, 3.93703813e-04],\n",
              "       [1.99785791e-06, 3.31966612e-06, 2.05242392e-02, 6.71741888e-02,\n",
              "        2.30005026e-01, 1.97754288e-03, 6.80305123e-01, 2.58459158e-06,\n",
              "        5.85914813e-06, 1.71035595e-07]], dtype=float32)"
            ]
          },
          "metadata": {},
          "execution_count": 23
        }
      ]
    },
    {
      "cell_type": "code",
      "metadata": {
        "id": "_aKLRpFKYfgo"
      },
      "source": [
        ""
      ],
      "execution_count": null,
      "outputs": []
    },
    {
      "cell_type": "code",
      "metadata": {
        "colab": {
          "base_uri": "https://localhost:8080/"
        },
        "id": "r8ZyMhrvYfpC",
        "outputId": "bdb57358-d2f4-4221-b207-dc4fc1256a4d"
      },
      "source": [
        "y_classes = [np.argmax(element) for element in y_pred]\n",
        "y_classes[:5]"
      ],
      "execution_count": null,
      "outputs": [
        {
          "output_type": "execute_result",
          "data": {
            "text/plain": [
              "[3, 8, 0, 8, 6]"
            ]
          },
          "metadata": {},
          "execution_count": 24
        }
      ]
    },
    {
      "cell_type": "code",
      "metadata": {
        "colab": {
          "base_uri": "https://localhost:8080/"
        },
        "id": "czMG2Ze0YjbV",
        "outputId": "c9d9eb95-a0c3-4895-adf6-7d7906be7f7d"
      },
      "source": [
        "y_test[:5]\n"
      ],
      "execution_count": null,
      "outputs": [
        {
          "output_type": "execute_result",
          "data": {
            "text/plain": [
              "array([3, 8, 8, 0, 6], dtype=uint8)"
            ]
          },
          "metadata": {},
          "execution_count": 25
        }
      ]
    },
    {
      "cell_type": "code",
      "metadata": {
        "colab": {
          "base_uri": "https://localhost:8080/",
          "height": 173
        },
        "id": "01ImqK_fYje0",
        "outputId": "dfac9c90-2b53-4c75-cc9f-7c52ea248418"
      },
      "source": [
        "plot_sample(X_test, y_test,3)\n"
      ],
      "execution_count": null,
      "outputs": [
        {
          "output_type": "display_data",
          "data": {
            "image/png": "[encoded data removed]",
            "text/plain": [
              "<Figure size 1080x144 with 1 Axes>"
            ]
          },
          "metadata": {
            "needs_background": "light"
          }
        }
      ]
    },
    {
      "cell_type": "code",
      "metadata": {
        "colab": {
          "base_uri": "https://localhost:8080/",
          "height": 35
        },
        "id": "wIeKKp1_Yjh2",
        "outputId": "935e0425-7cbf-4c03-af6d-b51b6a5cab03"
      },
      "source": [
        "classes[y_classes[3]]"
      ],
      "execution_count": null,
      "outputs": [
        {
          "output_type": "execute_result",
          "data": {
            "application/vnd.google.colaboratory.intrinsic+json": {
              "type": "string"
            },
            "text/plain": [
              "'ship'"
            ]
          },
          "metadata": {},
          "execution_count": 43
        }
      ]
    },
    {
      "cell_type": "code",
      "metadata": {
        "colab": {
          "base_uri": "https://localhost:8080/"
        },
        "id": "yRCcten1Z0Zm",
        "outputId": "fac09a16-d9e8-45fc-b79c-875ef7192574"
      },
      "source": [
        "print(\"Classification Report: \\n\", classification_report(y_test, y_classes))"
      ],
      "execution_count": null,
      "outputs": [
        {
          "output_type": "stream",
          "name": "stdout",
          "text": [
            "Classification Report: \n",
            "               precision    recall  f1-score   support\n",
            "\n",
            "           0       0.77      0.71      0.74      1000\n",
            "           1       0.87      0.77      0.82      1000\n",
            "           2       0.67      0.50      0.58      1000\n",
            "           3       0.53      0.51      0.52      1000\n",
            "           4       0.68      0.59      0.63      1000\n",
            "           5       0.58      0.67      0.62      1000\n",
            "           6       0.72      0.81      0.76      1000\n",
            "           7       0.64      0.83      0.72      1000\n",
            "           8       0.82      0.78      0.80      1000\n",
            "           9       0.75      0.82      0.78      1000\n",
            "\n",
            "    accuracy                           0.70     10000\n",
            "   macro avg       0.70      0.70      0.70     10000\n",
            "weighted avg       0.70      0.70      0.70     10000\n",
            "\n"
          ]
        }
      ]
    }
  ]
}